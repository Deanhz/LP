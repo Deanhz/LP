{
 "cells": [
  {
   "cell_type": "code",
   "execution_count": 1,
   "metadata": {},
   "outputs": [],
   "source": [
    "from OPTICS import *\n",
    "from dbscan import *\n",
    "import numpy as np\n",
    "import matplotlib.pyplot as plt\n",
    "import math\n",
    "import datetime\n",
    "from sklearn.datasets.samples_generator import make_blobs\n",
    "from sklearn.neighbors import DistanceMetric"
   ]
  },
  {
   "cell_type": "code",
   "execution_count": 2,
   "metadata": {},
   "outputs": [],
   "source": [
    "def loadSTdata(filename):\n",
    "    fin = open(filename)\n",
    "    data = []\n",
    "    for line in fin:\n",
    "        line_list = line.strip().split(\"\\t\")\n",
    "        latitude = float(line_list[0])\n",
    "        longitude = float(line_list[1])\n",
    "        dt = datetime.datetime.strptime(line_list[2],\"%Y-%m-%d %H:%M:%S\")\n",
    "        index = int(line_list[3])\n",
    "        trajNum = int(line_list[4])\n",
    "        userId = line_list[5]\n",
    "        isST = int(line_list[6])\n",
    "        if isST == 1:\n",
    "            data.append([latitude,longitude,dt,index,trajNum,userId,isST])\n",
    "    return np.array(data)"
   ]
  },
  {
   "cell_type": "code",
   "execution_count": 3,
   "metadata": {},
   "outputs": [],
   "source": [
    "dataRaw = loadSTdata(\"../cleaned_data/000_st\")"
   ]
  },
  {
   "cell_type": "code",
   "execution_count": 5,
   "metadata": {},
   "outputs": [
    {
     "data": {
      "text/plain": [
       "45910"
      ]
     },
     "execution_count": 5,
     "metadata": {},
     "output_type": "execute_result"
    }
   ],
   "source": [
    "len(dataRaw)"
   ]
  },
  {
   "cell_type": "code",
   "execution_count": 6,
   "metadata": {},
   "outputs": [],
   "source": [
    "data = dataRaw[:,:2]"
   ]
  },
  {
   "cell_type": "code",
   "execution_count": 9,
   "metadata": {},
   "outputs": [
    {
     "data": {
      "text/plain": [
       "45910"
      ]
     },
     "execution_count": 9,
     "metadata": {},
     "output_type": "execute_result"
    }
   ],
   "source": [
    "len(data)"
   ]
  },
  {
   "cell_type": "code",
   "execution_count": 10,
   "metadata": {},
   "outputs": [],
   "source": [
    "dataForOptics = data*np.pi/180"
   ]
  },
  {
   "cell_type": "code",
   "execution_count": 13,
   "metadata": {},
   "outputs": [
    {
     "data": {
      "text/plain": [
       "array([[0.6978467757973437, 2.0298010078289535],\n",
       "       [0.6978465663578335, 2.029799279952994],\n",
       "       [0.6978442974298059, 2.029798773807511],\n",
       "       ..., \n",
       "       [0.6995362894198593, 2.0287061627891774],\n",
       "       [0.6995348407965801, 2.0287029339300613],\n",
       "       [0.6995330954673281, 2.0286999145104554]], dtype=object)"
      ]
     },
     "execution_count": 13,
     "metadata": {},
     "output_type": "execute_result"
    }
   ],
   "source": [
    "dataForOptics"
   ]
  },
  {
   "cell_type": "code",
   "execution_count": 16,
   "metadata": {},
   "outputs": [],
   "source": [
    "def ST_Optics(data):\n",
    "    fout = open(\"ST_Optics\",\"w\")\n",
    "    tree = setOfObjects(data,metric='haversine')\n",
    "    prep_optics(tree, 1.5e-5, 60)\n",
    "    build_optics(tree, 1.5e-5, 60, './test_st_optics.txt')\n",
    "    tmp_coredist = []\n",
    "    for i in tree._core_dist:\n",
    "        if not math.isnan(i):\n",
    "            tmp_coredist.append(i)\n",
    "    print(np.mean(tmp_coredist))\n",
    "    print(np.median(tmp_coredist))"
   ]
  },
  {
   "cell_type": "code",
   "execution_count": 17,
   "metadata": {},
   "outputs": [
    {
     "name": "stdout",
     "output_type": "stream",
     "text": [
      "Core distances and neighborhoods prepped for 45910 points.\n",
      "Object Found!\n",
      "Object Found!\n",
      "Object Found!\n",
      "Object Found!\n",
      "Object Found!\n",
      "Object Found!\n",
      "Object Found!\n",
      "Object Found!\n",
      "Object Found!\n",
      "Object Found!\n",
      "Object Found!\n",
      "Object Found!\n",
      "Object Found!\n",
      "Object Found!\n",
      "Object Found!\n",
      "Object Found!\n",
      "Object Found!\n",
      "Object Found!\n",
      "Object Found!\n",
      "Object Found!\n",
      "Object Found!\n",
      "Object Found!\n",
      "Object Found!\n",
      "Object Found!\n",
      "Object Found!\n",
      "Object Found!\n",
      "Object Found!\n",
      "Object Found!\n",
      "Object Found!\n",
      "Object Found!\n",
      "Object Found!\n",
      "Object Found!\n",
      "Object Found!\n",
      "Object Found!\n",
      "Object Found!\n",
      "Object Found!\n",
      "Object Found!\n",
      "Object Found!\n",
      "Object Found!\n",
      "Object Found!\n",
      "Object Found!\n",
      "Object Found!\n",
      "Object Found!\n",
      "Object Found!\n",
      "Object Found!\n",
      "Object Found!\n",
      "Object Found!\n",
      "Object Found!\n",
      "Object Found!\n",
      "Object Found!\n",
      "Object Found!\n",
      "Object Found!\n",
      "Object Found!\n",
      "Object Found!\n",
      "Object Found!\n",
      "Object Found!\n",
      "Object Found!\n",
      "Object Found!\n",
      "Object Found!\n",
      "Object Found!\n",
      "Object Found!\n",
      "Object Found!\n",
      "Object Found!\n",
      "Object Found!\n",
      "Object Found!\n",
      "Object Found!\n",
      "Object Found!\n",
      "Object Found!\n",
      "Object Found!\n",
      "Object Found!\n",
      "Object Found!\n",
      "Object Found!\n",
      "Object Found!\n",
      "Object Found!\n",
      "Object Found!\n",
      "Object Found!\n",
      "Object Found!\n",
      "Object Found!\n",
      "Object Found!\n",
      "Object Found!\n",
      "Object Found!\n",
      "Object Found!\n",
      "Object Found!\n",
      "Object Found!\n",
      "Object Found!\n",
      "Object Found!\n",
      "Object Found!\n",
      "Object Found!\n",
      "Object Found!\n",
      "Object Found!\n",
      "Object Found!\n",
      "Object Found!\n",
      "Object Found!\n",
      "Object Found!\n",
      "Object Found!\n",
      "Object Found!\n",
      "Object Found!\n",
      "Object Found!\n",
      "Object Found!\n",
      "Object Found!\n",
      "Object Found!\n",
      "Object Found!\n",
      "Object Found!\n",
      "Object Found!\n",
      "Object Found!\n",
      "Object Found!\n",
      "2.14923428397e-06\n",
      "1.24510630786e-06\n"
     ]
    }
   ],
   "source": [
    "ST_Optics(dataForOptics)"
   ]
  },
  {
   "cell_type": "code",
   "execution_count": null,
   "metadata": {},
   "outputs": [],
   "source": []
  }
 ],
 "metadata": {
  "kernelspec": {
   "display_name": "Python 3",
   "language": "python",
   "name": "python3"
  },
  "language_info": {
   "codemirror_mode": {
    "name": "ipython",
    "version": 3
   },
   "file_extension": ".py",
   "mimetype": "text/x-python",
   "name": "python",
   "nbconvert_exporter": "python",
   "pygments_lexer": "ipython3",
   "version": "3.5.2"
  }
 },
 "nbformat": 4,
 "nbformat_minor": 2
}
