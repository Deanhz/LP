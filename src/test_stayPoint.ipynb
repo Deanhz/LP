{
 "cells": [
  {
   "cell_type": "code",
   "execution_count": 1,
   "metadata": {},
   "outputs": [],
   "source": [
    "import numpy as np\n",
    "import datetime\n",
    "from math import radians, cos, sin, asin, sqrt"
   ]
  },
  {
   "cell_type": "code",
   "execution_count": 2,
   "metadata": {},
   "outputs": [],
   "source": [
    "def loadTrajsRaw(filename):\n",
    "    fin = open(filename)\n",
    "    data = []\n",
    "    curTrajSet = []\n",
    "    i = 0\n",
    "    j = 0\n",
    "    for line in fin:\n",
    "        i += 1\n",
    "        line_list = line.strip().split(\"\\t\")\n",
    "        latitude = float(line_list[0])\n",
    "        longitude = float(line_list[1])\n",
    "        d = line_list[2] + \" \" + line_list[3]\n",
    "        dt = datetime.datetime.strptime(d,\"%Y-%m-%d %H:%M:%S\")\n",
    "        trajNum = int(line_list[ 4])\n",
    "\n",
    "        if trajNum == j:\n",
    "            curTrajSet.append([latitude, longitude,dt])\n",
    "        else:\n",
    "            data.append(np.array(curTrajSet))\n",
    "            j += 1\n",
    "            curTrajSet = []\n",
    "            curTrajSet.append([latitude, longitude,dt])\n",
    "    if len(curTrajSet) > 10:\n",
    "        data.append(np.array(curTrajSet))\n",
    "    return data"
   ]
  },
  {
   "cell_type": "code",
   "execution_count": 3,
   "metadata": {},
   "outputs": [],
   "source": [
    "data = loadTrajsRaw(\"../cleaned_data/000_tmp\")"
   ]
  },
  {
   "cell_type": "code",
   "execution_count": null,
   "metadata": {},
   "outputs": [],
   "source": []
  },
  {
   "cell_type": "code",
   "execution_count": 3,
   "metadata": {},
   "outputs": [],
   "source": [
    "def haversine(lon1, lat1, lon2, lat2):  # 经度1，纬度1，经度2，纬度2 （十进制度数）\n",
    "    \"\"\" \n",
    "    Calculate the great circle distance between two points  \n",
    "    on the earth (specified in decimal degrees) \n",
    "    \"\"\"\n",
    "    # 将十进制度数转化为弧度\n",
    "    lon1, lat1, lon2, lat2 = map(radians, [lon1, lat1, lon2, lat2])\n",
    "\n",
    "    # haversine公式\n",
    "    dlon = lon2 - lon1\n",
    "    dlat = lat2 - lat1\n",
    "    a = sin(dlat / 2)**2 + cos(lat1) * cos(lat2) * sin(dlon / 2)**2\n",
    "    c = 2 * asin(sqrt(a))\n",
    "    r = 6371  # 地球平均半径，单位为公里\n",
    "    return c * r * 1000"
   ]
  },
  {
   "cell_type": "code",
   "execution_count": 23,
   "metadata": {},
   "outputs": [],
   "source": [
    "def extractStayPoint(traj,Time,Distance):\n",
    "    length = len(traj)\n",
    "    result = []\n",
    "    i = 0\n",
    "    while(i < length):\n",
    "        print(i)\n",
    "        for j in range(i+1,length):\n",
    "            if haversine(traj[i][1],traj[i][0],traj[j][1],traj[j][0]) >= Distance:\n",
    "                if (traj[j-1][2]-traj[i][2]).total_seconds() >= Time:\n",
    "                    result.append(traj[i:j])\n",
    "                    i = j\n",
    "                else:\n",
    "                    i = i + 1\n",
    "                    break\n",
    "            if j==length-1:\n",
    "                if (traj[j-1][2]-traj[i][2]).total_seconds() >= Time:\n",
    "                    result.append(traj[i:])\n",
    "            "
   ]
  },
  {
   "cell_type": "code",
   "execution_count": null,
   "metadata": {},
   "outputs": [],
   "source": []
  },
  {
   "cell_type": "code",
   "execution_count": 4,
   "metadata": {},
   "outputs": [
    {
     "data": {
      "text/plain": [
       "833.4990243657764"
      ]
     },
     "execution_count": 4,
     "metadata": {},
     "output_type": "execute_result"
    }
   ],
   "source": [
    "haversine(116.318417,39.984702,116.308638,39.98449)"
   ]
  },
  {
   "cell_type": "code",
   "execution_count": null,
   "metadata": {},
   "outputs": [],
   "source": []
  },
  {
   "cell_type": "code",
   "execution_count": null,
   "metadata": {},
   "outputs": [],
   "source": []
  },
  {
   "cell_type": "code",
   "execution_count": null,
   "metadata": {},
   "outputs": [],
   "source": []
  }
 ],
 "metadata": {
  "kernelspec": {
   "display_name": "Python 3",
   "language": "python",
   "name": "python3"
  },
  "language_info": {
   "codemirror_mode": {
    "name": "ipython",
    "version": 3
   },
   "file_extension": ".py",
   "mimetype": "text/x-python",
   "name": "python",
   "nbconvert_exporter": "python",
   "pygments_lexer": "ipython3",
   "version": "3.5.2"
  }
 },
 "nbformat": 4,
 "nbformat_minor": 2
}
