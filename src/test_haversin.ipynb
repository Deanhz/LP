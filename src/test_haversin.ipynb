{
 "cells": [
  {
   "cell_type": "code",
   "execution_count": 2,
   "metadata": {},
   "outputs": [],
   "source": [
    "import numpy as np\n",
    "import matplotlib.pyplot as plt\n",
    "import math\n",
    "from math import radians, cos, sin, asin, sqrt\n"
   ]
  },
  {
   "cell_type": "code",
   "execution_count": 3,
   "metadata": {},
   "outputs": [],
   "source": [
    "def haversine(lon1, lat1, lon2, lat2):  # 经度1，纬度1，经度2，纬度2 （十进制度数）\n",
    "    \"\"\" \n",
    "    Calculate the great circle distance between two points  \n",
    "    on the earth (specified in decimal degrees) \n",
    "    \"\"\"\n",
    "    # 将十进制度数转化为弧度\n",
    "    lon1, lat1, lon2, lat2 = map(radians, [lon1, lat1, lon2, lat2])\n",
    "\n",
    "    # haversine公式\n",
    "    dlon = lon2 - lon1\n",
    "    dlat = lat2 - lat1\n",
    "    a = sin(dlat / 2)**2 + cos(lat1) * cos(lat2) * sin(dlon / 2)**2\n",
    "    c = 2 * asin(sqrt(a))\n",
    "    r = 6371  # 地球平均半径，单位为公里\n",
    "    return c * r * 1000\n"
   ]
  },
  {
   "cell_type": "code",
   "execution_count": 15,
   "metadata": {},
   "outputs": [],
   "source": [
    "class Point:\n",
    "    def __init__(self, latitude, longitude):\n",
    "\n",
    "        self.latitude = latitude\n",
    "        self.longitude = longitude\n",
    "        self.cd = None  # core distance\n",
    "        self.rd = None  # reachability distance\n",
    "        self.processed = False  # has this point been processed\n",
    "\n",
    "    def distance(self, point):\n",
    "        \"\"\"calculate the distance between any two points on earth\n",
    "        \"\"\"\n",
    "        p1_lat = radians(self.latitude)\n",
    "        p1_lon = radians(self.longitude)\n",
    "        p2_lat = radians(point.latitude)\n",
    "        p2_lon = radians(point.longitude)\n",
    "        numerator = math.sqrt(\n",
    "            math.pow(math.cos(p2_lat) * math.sin(p2_lon - p1_lon), 2) +\n",
    "            math.pow(\n",
    "                math.cos(p1_lat) * math.sin(p2_lat) -\n",
    "                math.sin(p1_lat) * math.cos(p2_lat) *\n",
    "                math.cos(p2_lon - p1_lon), 2))\n",
    "        denominator = (\n",
    "            math.sin(p1_lat) * math.sin(p2_lat) +\n",
    "            math.cos(p1_lat) * math.cos(p2_lat) *\n",
    "            math.cos(p2_lon - p1_lon))\n",
    "\n",
    "        # convert distance from radians to meters\n",
    "        # note: earth's radius ~ 6372800 meters\n",
    "        return math.atan2(numerator, denominator) * 6371000"
   ]
  },
  {
   "cell_type": "code",
   "execution_count": 16,
   "metadata": {},
   "outputs": [],
   "source": [
    "p1 = Point(39.984702,116.318417)"
   ]
  },
  {
   "cell_type": "code",
   "execution_count": 17,
   "metadata": {},
   "outputs": [],
   "source": [
    "p2 = Point(39.984501,116.313659)"
   ]
  },
  {
   "cell_type": "code",
   "execution_count": 19,
   "metadata": {},
   "outputs": [
    {
     "data": {
      "text/plain": [
       "405.9946991448947"
      ]
     },
     "execution_count": 19,
     "metadata": {},
     "output_type": "execute_result"
    }
   ],
   "source": [
    "haversine(116.318417,39.984702,116.313659,39.984501)"
   ]
  },
  {
   "cell_type": "code",
   "execution_count": 20,
   "metadata": {},
   "outputs": [
    {
     "data": {
      "text/plain": [
       "405.99469914490805"
      ]
     },
     "execution_count": 20,
     "metadata": {},
     "output_type": "execute_result"
    }
   ],
   "source": [
    "p1.distance(p2)"
   ]
  },
  {
   "cell_type": "code",
   "execution_count": null,
   "metadata": {},
   "outputs": [],
   "source": []
  }
 ],
 "metadata": {
  "kernelspec": {
   "display_name": "Python 3",
   "language": "python",
   "name": "python3"
  },
  "language_info": {
   "codemirror_mode": {
    "name": "ipython",
    "version": 3
   },
   "file_extension": ".py",
   "mimetype": "text/x-python",
   "name": "python",
   "nbconvert_exporter": "python",
   "pygments_lexer": "ipython3",
   "version": "3.5.2"
  }
 },
 "nbformat": 4,
 "nbformat_minor": 2
}
