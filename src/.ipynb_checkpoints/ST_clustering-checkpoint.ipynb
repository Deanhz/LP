{
 "cells": [
  {
   "cell_type": "code",
   "execution_count": 1,
   "metadata": {},
   "outputs": [],
   "source": [
    "from OPTICS import *\n",
    "from dbscan import *\n",
    "import numpy as np\n",
    "import matplotlib.pyplot as plt\n",
    "import math\n",
    "from sklearn.datasets.samples_generator import make_blobs\n",
    "from sklearn.neighbors import DistanceMetric"
   ]
  },
  {
   "cell_type": "code",
   "execution_count": null,
   "metadata": {},
   "outputs": [],
   "source": [
    "def loadSTdata(filename):\n",
    "    fin = open(filename)\n",
    "    data = []\n",
    "    for line in fin:\n",
    "        line_list = line.strip().split(\"\\t\")\n",
    "        latitude = float(line_list[0])\n",
    "        longitude = float(line_list[1])\n",
    "        dt = line_list[2]\n",
    "        index = int(line_list[3])\n",
    "        trajNum = int(line_list[4])\n",
    "        userId = line_list[5]\n",
    "        isST = int(line_list[6])\n",
    "        data.append([latitude,longitude,dt,index,trajNum,userId,isST])\n",
    "    return data"
   ]
  }
 ],
 "metadata": {
  "kernelspec": {
   "display_name": "Python 3",
   "language": "python",
   "name": "python3"
  },
  "language_info": {
   "codemirror_mode": {
    "name": "ipython",
    "version": 3
   },
   "file_extension": ".py",
   "mimetype": "text/x-python",
   "name": "python",
   "nbconvert_exporter": "python",
   "pygments_lexer": "ipython3",
   "version": "3.5.2"
  }
 },
 "nbformat": 4,
 "nbformat_minor": 2
}
