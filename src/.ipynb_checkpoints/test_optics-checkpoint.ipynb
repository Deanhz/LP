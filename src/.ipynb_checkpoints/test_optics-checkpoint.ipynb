{
 "cells": [
  {
   "cell_type": "code",
   "execution_count": null,
   "metadata": {},
   "outputs": [],
   "source": [
    "from OPTICS import *\n",
    "from dbscan import *\n",
    "import numpy as np\n",
    "import matplotlib.pyplot as plt\n",
    "from sklearn.datasets.samples_generator import make_blobs\n",
    "from sklearn.neighbors import DistanceMetric"
   ]
  },
  {
   "cell_type": "code",
   "execution_count": null,
   "metadata": {},
   "outputs": [],
   "source": [
    "def plotFeature(data, clusters, clusterNum):\n",
    "    matClusters = np.mat(clusters)\n",
    "    fig = plt.figure()\n",
    "    ax = fig.add_subplot(111)\n",
    "    colors = ['blue', 'green', 'yellow', 'brown',\n",
    "              'red', 'purple', 'orange', 'grey']\n",
    "    noise_data = data[np.nonzero(matClusters == -1)[1], :]  # 噪声点\n",
    "    ax.scatter(noise_data[:, 0], noise_data[:, 1],\n",
    "               c=\"black\", s=0.8, marker='x', label='noise')  # 画噪声点，颜色为黑色\n",
    "    for i in range(0, clusterNum+1):  # 画其他簇\n",
    "        colorStyle = colors[i % len(colors)]\n",
    "        index = np.nonzero(matClusters == i)[1]\n",
    "        subCluster = data[index, :]\n",
    "        ax.scatter(subCluster[:, 0], subCluster[:, 1],\n",
    "                   c=colorStyle, s=0.8)\n",
    "    plt.legend(loc='best')\n",
    "    plt.show()"
   ]
  },
  {
   "cell_type": "code",
   "execution_count": null,
   "metadata": {},
   "outputs": [],
   "source": [
    "centers = [[1, 1], [-1, -1], [1, -1]]\n",
    "X, labels_true = make_blobs(n_samples=750, centers=centers, cluster_std=0.4,random_state=0)\n",
    "X1 = StandardScaler().fit_transform(X)"
   ]
  },
  {
   "cell_type": "code",
   "execution_count": null,
   "metadata": {},
   "outputs": [],
   "source": [
    "plt.scatter(X[:,0],X[:,1])\n",
    "plt.show()"
   ]
  },
  {
   "cell_type": "code",
   "execution_count": null,
   "metadata": {},
   "outputs": [],
   "source": [
    "plotFeature(X,labels_true,len(set(labels_true)))"
   ]
  },
  {
   "cell_type": "code",
   "execution_count": null,
   "metadata": {},
   "outputs": [],
   "source": []
  },
  {
   "cell_type": "code",
   "execution_count": null,
   "metadata": {},
   "outputs": [],
   "source": [
    "testtree = setOfObjects(X1, )\n",
    "prep_optics(testtree, 30, 10)\n",
    "build_optics(testtree, 30, 10, './testing_may6.txt')"
   ]
  },
  {
   "cell_type": "code",
   "execution_count": null,
   "metadata": {},
   "outputs": [],
   "source": [
    "testtree._core_dist"
   ]
  },
  {
   "cell_type": "code",
   "execution_count": null,
   "metadata": {},
   "outputs": [],
   "source": [
    "testtree._reachability"
   ]
  },
  {
   "cell_type": "code",
   "execution_count": null,
   "metadata": {},
   "outputs": [],
   "source": [
    "reachability = []\n",
    "for i in testtree._reachability:\n",
    "    if i<float(\"inf\"):\n",
    "        reachability.append(i)\n",
    "reachability"
   ]
  },
  {
   "cell_type": "code",
   "execution_count": null,
   "metadata": {},
   "outputs": [],
   "source": [
    "print(np.mean(testtree._core_dist))\n",
    "print(np.mean(reachability))"
   ]
  },
  {
   "cell_type": "code",
   "execution_count": null,
   "metadata": {},
   "outputs": [],
   "source": [
    "ExtractDBSCAN(testtree, 0.2)\n",
    "core_samples = testtree._index[testtree._is_core[:] > 0]\n",
    "labels = testtree._cluster_id[:]\n",
    "n_clusters_ = max(testtree._cluster_id)\n",
    "n_clusters_"
   ]
  },
  {
   "cell_type": "code",
   "execution_count": null,
   "metadata": {},
   "outputs": [],
   "source": [
    "labels"
   ]
  },
  {
   "cell_type": "code",
   "execution_count": null,
   "metadata": {
    "scrolled": true
   },
   "outputs": [],
   "source": [
    "plotFeature(X,labels,n_clusters_)"
   ]
  },
  {
   "cell_type": "code",
   "execution_count": null,
   "metadata": {},
   "outputs": [],
   "source": []
  },
  {
   "cell_type": "code",
   "execution_count": null,
   "metadata": {},
   "outputs": [],
   "source": [
    "def loadDataSet(fileName):\n",
    "    dataSet = []\n",
    "    with open(fileName) as f:\n",
    "        for line in f:\n",
    "            curline = line.strip().split(',')\n",
    "            fltline = list(map(float, curline))\n",
    "            dataSet.append(fltline)\n",
    "    return np.array(dataSet)"
   ]
  },
  {
   "cell_type": "code",
   "execution_count": null,
   "metadata": {},
   "outputs": [],
   "source": [
    "data = loadDataSet(\"788points\")\n",
    "data"
   ]
  },
  {
   "cell_type": "code",
   "execution_count": null,
   "metadata": {},
   "outputs": [],
   "source": [
    "plt.scatter(data[:,0],data[:,1])\n",
    "plt.show()"
   ]
  },
  {
   "cell_type": "code",
   "execution_count": null,
   "metadata": {},
   "outputs": [],
   "source": [
    "testtree = setOfObjects(data)\n",
    "prep_optics(testtree, 30, 10)\n",
    "build_optics(testtree, 30, 10, './testing_may7.txt')"
   ]
  },
  {
   "cell_type": "code",
   "execution_count": null,
   "metadata": {},
   "outputs": [],
   "source": [
    "print(np.mean(testtree._core_dist))\n",
    "print(np.max(testtree._core_dist))\n",
    "print(np.min(testtree._core_dist))"
   ]
  },
  {
   "cell_type": "code",
   "execution_count": null,
   "metadata": {},
   "outputs": [],
   "source": [
    "ExtractDBSCAN(testtree, 1.5)\n",
    "core_samples = testtree._index[testtree._is_core[:] > 0]\n",
    "labels = testtree._cluster_id[:]\n",
    "n_clusters_ = max(testtree._cluster_id)\n",
    "n_clusters_"
   ]
  },
  {
   "cell_type": "code",
   "execution_count": null,
   "metadata": {},
   "outputs": [],
   "source": [
    "plotFeature(data,labels,n_clusters_)"
   ]
  },
  {
   "cell_type": "code",
   "execution_count": 161,
   "metadata": {},
   "outputs": [],
   "source": [
    "def loadTrajsTest(filename):\n",
    "    fin = open(filename)\n",
    "    data = []\n",
    "    curTrajSet = []\n",
    "    i = 0\n",
    "    j = 0\n",
    "    for line in fin:\n",
    "        i += 1\n",
    "        line_list = line.strip().split(\"\\t\")\n",
    "        latitude = float(line_list[0])\n",
    "        longitude = float(line_list[1])\n",
    "        trajNum = int(line_list[4])\n",
    "\n",
    "        if trajNum == j:\n",
    "            curTrajSet.append([latitude, longitude])\n",
    "        else:\n",
    "            data.append(np.array(curTrajSet))\n",
    "            j += 1\n",
    "            curTrajSet = []\n",
    "            curTrajSet.append([latitude, longitude])\n",
    "    if len(curTrajSet) > 10:\n",
    "        data.append(np.array(curTrajSet))\n",
    "    return data"
   ]
  },
  {
   "cell_type": "code",
   "execution_count": 162,
   "metadata": {},
   "outputs": [
    {
     "name": "stdout",
     "output_type": "stream",
     "text": [
      "[array([[  39.984702,  116.318417],\n",
      "       [  39.984683,  116.31845 ],\n",
      "       [  39.984686,  116.318417],\n",
      "       ..., \n",
      "       [  40.009243,  116.32105 ],\n",
      "       [  40.009269,  116.320978],\n",
      "       [  40.009328,  116.320887]]), array([[  40.008304,  116.319876],\n",
      "       [  40.008413,  116.319962],\n",
      "       [  40.007171,  116.319458],\n",
      "       [  40.007209,  116.319484],\n",
      "       [  40.007287,  116.31959 ],\n",
      "       [  40.007366,  116.319727],\n",
      "       [  40.007429,  116.319873],\n",
      "       [  40.007499,  116.320013],\n",
      "       [  40.007514,  116.320165],\n",
      "       [  40.007578,  116.320176],\n",
      "       [  40.007694,  116.320214],\n",
      "       [  40.007739,  116.320357],\n",
      "       [  40.007834,  116.320544],\n",
      "       [  40.007907,  116.320708],\n",
      "       [  40.007941,  116.320861],\n",
      "       [  40.007989,  116.320989],\n",
      "       [  40.008131,  116.321041],\n",
      "       [  40.008316,  116.321118],\n",
      "       [  40.008486,  116.321152],\n",
      "       [  40.00861 ,  116.321191],\n",
      "       [  40.008716,  116.321251],\n",
      "       [  40.008816,  116.321301],\n",
      "       [  40.008875,  116.321349],\n",
      "       [  40.008912,  116.321366],\n",
      "       [  40.008912,  116.321366],\n",
      "       [  40.008915,  116.321366],\n",
      "       [  40.008921,  116.321375],\n",
      "       [  40.008931,  116.321385],\n",
      "       [  40.00894 ,  116.321394],\n",
      "       [  40.008948,  116.321401],\n",
      "       [  40.008951,  116.321405],\n",
      "       [  40.008951,  116.321405],\n",
      "       [  40.008951,  116.321408],\n",
      "       [  40.008946,  116.321438],\n",
      "       [  40.008954,  116.321506],\n",
      "       [  40.008943,  116.321554],\n",
      "       [  40.008924,  116.32159 ],\n",
      "       [  40.008968,  116.321514],\n",
      "       [  40.008999,  116.321465],\n",
      "       [  40.009019,  116.321433],\n",
      "       [  40.009052,  116.321394],\n",
      "       [  40.009085,  116.321351],\n",
      "       [  40.009086,  116.321348],\n",
      "       [  40.009086,  116.321346],\n",
      "       [  40.009089,  116.321346],\n",
      "       [  40.009089,  116.321345],\n",
      "       [  40.009089,  116.321346],\n",
      "       [  40.009088,  116.321346],\n",
      "       [  40.009087,  116.321347],\n",
      "       [  40.009088,  116.321346],\n",
      "       [  40.009089,  116.321344],\n",
      "       [  40.00909 ,  116.321341],\n",
      "       [  40.009088,  116.321344],\n",
      "       [  40.009086,  116.321346],\n",
      "       [  40.009084,  116.321349],\n",
      "       [  40.009084,  116.321349],\n",
      "       [  40.009077,  116.321356],\n",
      "       [  40.009055,  116.321386],\n",
      "       [  40.009001,  116.32146 ],\n",
      "       [  40.008971,  116.321519],\n",
      "       [  40.008923,  116.321581],\n",
      "       [  40.008859,  116.321706],\n",
      "       [  40.008809,  116.321794],\n",
      "       [  40.008779,  116.321862],\n",
      "       [  40.008755,  116.321897],\n",
      "       [  40.008755,  116.321917],\n",
      "       [  40.008739,  116.321948],\n",
      "       [  40.008727,  116.321975],\n",
      "       [  40.008708,  116.321995],\n",
      "       [  40.0087  ,  116.322015],\n",
      "       [  40.008951,  116.322054],\n",
      "       [  40.008965,  116.322109],\n",
      "       [  40.009025,  116.322134],\n",
      "       [  40.009199,  116.322217],\n",
      "       [  40.009279,  116.322252],\n",
      "       [  40.009314,  116.322339],\n",
      "       [  40.0093  ,  116.322406],\n",
      "       [  40.009231,  116.322459],\n",
      "       [  40.009094,  116.322483],\n",
      "       [  40.008968,  116.322437],\n",
      "       [  40.008905,  116.322394],\n",
      "       [  40.008845,  116.322382],\n",
      "       [  40.008764,  116.322373],\n",
      "       [  40.008735,  116.322402],\n",
      "       [  40.008735,  116.322402],\n",
      "       [  40.008727,  116.3224  ],\n",
      "       [  40.008697,  116.322429],\n",
      "       [  40.008694,  116.322431],\n",
      "       [  40.008694,  116.322432],\n",
      "       [  40.008697,  116.322433],\n",
      "       [  40.008697,  116.322433],\n",
      "       [  40.008695,  116.322432],\n",
      "       [  40.008685,  116.322427],\n",
      "       [  40.008649,  116.322456],\n",
      "       [  40.008633,  116.322464],\n",
      "       [  40.008633,  116.322464],\n",
      "       [  40.008634,  116.322467],\n",
      "       [  40.008644,  116.322469],\n",
      "       [  40.008643,  116.322468],\n",
      "       [  40.008644,  116.322467],\n",
      "       [  40.008644,  116.322467],\n",
      "       [  40.008644,  116.322467],\n",
      "       [  40.00865 ,  116.322455],\n",
      "       [  40.008678,  116.322475],\n",
      "       [  40.008707,  116.322496],\n",
      "       [  40.008734,  116.322494],\n",
      "       [  40.008742,  116.32246 ],\n",
      "       [  40.008729,  116.322438],\n",
      "       [  40.008726,  116.322436],\n",
      "       [  40.008726,  116.322436],\n",
      "       [  40.00872 ,  116.322439],\n",
      "       [  40.008703,  116.322436],\n",
      "       [  40.008686,  116.322443],\n",
      "       [  40.008679,  116.322454],\n",
      "       [  40.008679,  116.322466],\n",
      "       [  40.008679,  116.322476],\n",
      "       [  40.008676,  116.322481],\n",
      "       [  40.008676,  116.322481],\n",
      "       [  40.008671,  116.322488],\n",
      "       [  40.008665,  116.322499],\n",
      "       [  40.008673,  116.322483],\n",
      "       [  40.008693,  116.322461],\n",
      "       [  40.008725,  116.322421],\n",
      "       [  40.008725,  116.322421],\n",
      "       [  40.008732,  116.322419],\n",
      "       [  40.008736,  116.322397],\n",
      "       [  40.008723,  116.322384],\n",
      "       [  40.008718,  116.322383],\n",
      "       [  40.008718,  116.322383],\n",
      "       [  40.008719,  116.322384],\n",
      "       [  40.008714,  116.322383],\n",
      "       [  40.008712,  116.322382],\n",
      "       [  40.008711,  116.322382],\n",
      "       [  40.008711,  116.322382],\n",
      "       [  40.008714,  116.322384],\n",
      "       [  40.008715,  116.322396],\n",
      "       [  40.00871 ,  116.3224  ],\n",
      "       [  40.00871 ,  116.3224  ],\n",
      "       [  40.008712,  116.322402],\n",
      "       [  40.008722,  116.322417],\n",
      "       [  40.008723,  116.32242 ],\n",
      "       [  40.00873 ,  116.322421],\n",
      "       [  40.00873 ,  116.322421],\n",
      "       [  40.008735,  116.322416],\n",
      "       [  40.008749,  116.322429],\n",
      "       [  40.008757,  116.322453],\n",
      "       [  40.008791,  116.322437],\n",
      "       [  40.0088  ,  116.322416],\n",
      "       [  40.008807,  116.322382],\n",
      "       [  40.008813,  116.322378],\n",
      "       [  40.008807,  116.322376],\n",
      "       [  40.008804,  116.322379],\n",
      "       [  40.008801,  116.322381],\n",
      "       [  40.0088  ,  116.322383],\n",
      "       [  40.0088  ,  116.322383],\n",
      "       [  40.008805,  116.322388],\n",
      "       [  40.008806,  116.322412],\n",
      "       [  40.008809,  116.322414],\n",
      "       [  40.008803,  116.322408],\n",
      "       [  40.008803,  116.322408],\n",
      "       [  40.008802,  116.322402],\n",
      "       [  40.008772,  116.322417],\n",
      "       [  40.008773,  116.322411],\n",
      "       [  40.008763,  116.322406],\n",
      "       [  40.008763,  116.322406],\n",
      "       [  40.008764,  116.322414],\n",
      "       [  40.008768,  116.322393],\n",
      "       [  40.008765,  116.32239 ],\n",
      "       [  40.008765,  116.32239 ],\n",
      "       [  40.008768,  116.32239 ],\n",
      "       [  40.008742,  116.322304],\n",
      "       [  40.008722,  116.322292],\n",
      "       [  40.008715,  116.322265],\n",
      "       [  40.008702,  116.322221],\n",
      "       [  40.008692,  116.322194],\n",
      "       [  40.008671,  116.322162],\n",
      "       [  40.008963,  116.322994],\n",
      "       [  40.008716,  116.322254],\n",
      "       [  40.008829,  116.322251],\n",
      "       [  40.008745,  116.322172],\n",
      "       [  40.00871 ,  116.322158],\n",
      "       [  40.008768,  116.322217],\n",
      "       [  40.008795,  116.322319],\n",
      "       [  40.008818,  116.322352],\n",
      "       [  40.008851,  116.322365],\n",
      "       [  40.008821,  116.322432],\n",
      "       [  40.008907,  116.322517],\n",
      "       [  40.008927,  116.322489],\n",
      "       [  40.00892 ,  116.322484],\n",
      "       [  40.008919,  116.322484],\n",
      "       [  40.008919,  116.322484],\n",
      "       [  40.008927,  116.322487],\n",
      "       [  40.008946,  116.322495],\n",
      "       [  40.008953,  116.3225  ],\n",
      "       [  40.008947,  116.322496],\n",
      "       [  40.008942,  116.322495],\n",
      "       [  40.008943,  116.322494],\n",
      "       [  40.008946,  116.322494],\n",
      "       [  40.008951,  116.322494],\n",
      "       [  40.008956,  116.322493],\n",
      "       [  40.00896 ,  116.322492],\n",
      "       [  40.008963,  116.322493],\n",
      "       [  40.008964,  116.322494],\n",
      "       [  40.008967,  116.322494],\n",
      "       [  40.008972,  116.322495],\n",
      "       [  40.008977,  116.322496],\n",
      "       [  40.008981,  116.322497],\n",
      "       [  40.008982,  116.322492],\n",
      "       [  40.008987,  116.322488],\n",
      "       [  40.008993,  116.322486],\n",
      "       [  40.008998,  116.322484],\n",
      "       [  40.009001,  116.32249 ],\n",
      "       [  40.009001,  116.32249 ],\n",
      "       [  40.009005,  116.32249 ],\n",
      "       [  40.009001,  116.322503],\n",
      "       [  40.009001,  116.322503],\n",
      "       [  40.009007,  116.322505],\n",
      "       [  40.009053,  116.322478],\n",
      "       [  40.009112,  116.322452],\n",
      "       [  40.009211,  116.322405],\n",
      "       [  40.009311,  116.322358],\n",
      "       [  40.009415,  116.322349],\n",
      "       [  40.009464,  116.322313],\n",
      "       [  40.009424,  116.322241],\n",
      "       [  40.009403,  116.322183],\n",
      "       [  40.009329,  116.322155],\n",
      "       [  40.009298,  116.322086],\n",
      "       [  40.009256,  116.322052],\n",
      "       [  40.009191,  116.322007],\n",
      "       [  40.009162,  116.32196 ],\n",
      "       [  40.009167,  116.321946],\n",
      "       [  40.009144,  116.321887],\n",
      "       [  40.009108,  116.321798],\n",
      "       [  40.009038,  116.321719],\n",
      "       [  40.00893 ,  116.321666],\n",
      "       [  40.008848,  116.321644],\n",
      "       [  40.008809,  116.321615],\n",
      "       [  40.008773,  116.321572],\n",
      "       [  40.008725,  116.321582],\n",
      "       [  40.00871 ,  116.321586],\n",
      "       [  40.009134,  116.321215],\n",
      "       [  40.009199,  116.321111],\n",
      "       [  40.009215,  116.321158],\n",
      "       [  40.009209,  116.321162]])]\n"
     ]
    }
   ],
   "source": [
    "dataTest = loadTrajsTest(\"../cleaned_data/000_tmp\")\n",
    "print(dataTest)"
   ]
  },
  {
   "cell_type": "code",
   "execution_count": 166,
   "metadata": {},
   "outputs": [],
   "source": [
    "xmin = min(dataTest[0][:,1])\n",
    "xmax = max(dataTest[0][:,1])\n",
    "ymin = min(dataTest[0][:,0])\n",
    "ymax = max(dataTest[0][:,0])"
   ]
  },
  {
   "cell_type": "code",
   "execution_count": 167,
   "metadata": {},
   "outputs": [
    {
     "data": {
      "image/png": "[encoded data removed]",
      "text/plain": [
       "<matplotlib.figure.Figure at 0x7fd674121400>"
      ]
     },
     "metadata": {},
     "output_type": "display_data"
    }
   ],
   "source": [
    "fig = plt.figure()\n",
    "ax =fig.add_subplot(111)\n",
    "ax.scatter(dataTest[0][:,1],dataTest[0][:,0],s=0.2)\n",
    "plt.xlim(xmin,xmax)\n",
    "plt.ylim(ymin,ymax)\n",
    "plt.show()"
   ]
  },
  {
   "cell_type": "code",
   "execution_count": 213,
   "metadata": {},
   "outputs": [],
   "source": [
    "def loadTrajs(filename):\n",
    "    fin = open(filename)\n",
    "    data = []\n",
    "    curTrajSet = []\n",
    "    i = 0\n",
    "    j = 0\n",
    "    for line in fin:\n",
    "        i += 1\n",
    "        line_list = line.strip().split(\"\\t\")\n",
    "        latitude = float(line_list[0])*np.pi/180\n",
    "        longitude = float(line_list[1])*np.pi/180\n",
    "        trajNum = int(line_list[4])\n",
    "\n",
    "        if trajNum == j:\n",
    "            curTrajSet.append([latitude, longitude])\n",
    "        else:\n",
    "            data.append(np.array(curTrajSet))\n",
    "            j += 1\n",
    "            curTrajSet = []\n",
    "            curTrajSet.append([latitude, longitude])\n",
    "    if len(curTrajSet) > 10:\n",
    "        data.append(np.array(curTrajSet))\n",
    "    return data"
   ]
  },
  {
   "cell_type": "code",
   "execution_count": 214,
   "metadata": {},
   "outputs": [],
   "source": [
    "data = loadTrajs(\"../cleaned_data/000_tmp\")"
   ]
  },
  {
   "cell_type": "code",
   "execution_count": 216,
   "metadata": {},
   "outputs": [
    {
     "data": {
      "text/plain": [
       "244"
      ]
     },
     "execution_count": 216,
     "metadata": {},
     "output_type": "execute_result"
    }
   ],
   "source": [
    "len(data[1])"
   ]
  },
  {
   "cell_type": "code",
   "execution_count": 219,
   "metadata": {},
   "outputs": [],
   "source": [
    "xmin = min(data[1][:,1])\n",
    "xmax = max(data[1][:,1])\n",
    "ymin = min(data[1][:,0])\n",
    "ymax = max(data[1][:,0])"
   ]
  },
  {
   "cell_type": "code",
   "execution_count": 220,
   "metadata": {},
   "outputs": [
    {
     "data": {
      "image/png": "[encoded data removed]",
      "text/plain": [
       "<matplotlib.figure.Figure at 0x7fd66fc305f8>"
      ]
     },
     "metadata": {},
     "output_type": "display_data"
    }
   ],
   "source": [
    "fig = plt.figure()\n",
    "ax =fig.add_subplot(111)\n",
    "ax.scatter(data[1][:,1],data[1][:,0],s=0.2)\n",
    "plt.xlim(xmin,xmax)\n",
    "plt.ylim(ymin,ymax)\n",
    "plt.show()"
   ]
  },
  {
   "cell_type": "code",
   "execution_count": 221,
   "metadata": {},
   "outputs": [],
   "source": [
    "xmin = min(data[0][:,1])\n",
    "xmax = max(data[0][:,1])\n",
    "ymin = min(data[0][:,0])\n",
    "ymax = max(data[0][:,0])"
   ]
  },
  {
   "cell_type": "code",
   "execution_count": 222,
   "metadata": {},
   "outputs": [
    {
     "data": {
      "image/png": "[encoded data removed]",
      "text/plain": [
       "<matplotlib.figure.Figure at 0x7fd66fbd9c88>"
      ]
     },
     "metadata": {},
     "output_type": "display_data"
    }
   ],
   "source": [
    "fig = plt.figure()\n",
    "ax =fig.add_subplot(111)\n",
    "ax.scatter(data[0][:,1],data[0][:,0],s=0.2)\n",
    "plt.xlim(xmin,xmax)\n",
    "plt.ylim(ymin,ymax)\n",
    "plt.show()"
   ]
  },
  {
   "cell_type": "code",
   "execution_count": 331,
   "metadata": {},
   "outputs": [],
   "source": [
    "import math\n",
    "def clusteringOPTICS(data):\n",
    "    n_traj = len(data)\n",
    "    for trajIndex in range(0, n_traj):\n",
    "        fout = open(\"clusterResultOPTICS\"+str(trajIndex), \"w\")\n",
    "        curTrajSet = data[trajIndex]\n",
    "        testtree = setOfObjects(curTrajSet,metric='haversine')\n",
    "        prep_optics(testtree, 3e-5, 60)\n",
    "        build_optics(testtree, 3e-5, 60, './testing_may8.txt')\n",
    "        tmp_coredist = []\n",
    "        for i in testtree._core_dist:\n",
    "            if not math.isnan(i):\n",
    "                tmp_coredist.append(i)\n",
    "        print(np.mean(tmp_coredist))\n",
    "        print(np.median(tmp_coredist))\n",
    "        ExtractDBSCAN(testtree, np.median(tmp_coredist))\n",
    "        core_samples = testtree._index[testtree._is_core[:] > 0]\n",
    "        labels = testtree._cluster_id[:]\n",
    "        n_clusters_ = max(testtree._cluster_id)\n",
    "        print(n_clusters_)\n",
    "        ind = 0\n",
    "        for cluster in labels:\n",
    "            fout.write(str(dataTest[trajIndex][ind][0]) + \"\\t\" +\n",
    "                       str(dataTest[trajIndex][ind][1]) + \"\\t\" + str(cluster) + \"\\n\")\n",
    "            ind += 1\n",
    "        print(labels)"
   ]
  },
  {
   "cell_type": "code",
   "execution_count": 332,
   "metadata": {},
   "outputs": [
    {
     "name": "stdout",
     "output_type": "stream",
     "text": [
      "Core distances and neighborhoods prepped for 908 points.\n",
      "Object Found!\n",
      "Object Found!\n",
      "Object Found!\n",
      "Object Found!\n",
      "Object Found!\n",
      "9.84389433019e-06\n",
      "9.32892293563e-06\n",
      "2\n",
      "[-1 -1 -1 -1 -1 -1 -1 -1 -1 -1 -1 -1 -1 -1 -1 -1 -1 -1 -1 -1 -1 -1 -1 -1 -1\n",
      " -1 -1 -1 -1 -1 -1 -1 -1 -1 -1 -1 -1 -1 -1 -1 -1 -1 -1 -1 -1 -1 -1 -1 -1 -1\n",
      " -1 -1 -1 -1 -1 -1 -1 -1 -1 -1 -1 -1 -1 -1 -1 -1 -1 -1 -1 -1 -1 -1 -1 -1 -1\n",
      " -1 -1 -1 -1 -1 -1 -1 -1 -1 -1 -1 -1 -1 -1 -1 -1 -1 -1 -1 -1 -1 -1 -1 -1 -1\n",
      " -1 -1 -1 -1 -1 -1 -1 -1 -1 -1 -1 -1 -1 -1 -1 -1 -1 -1 -1 -1 -1 -1 -1 -1 -1\n",
      " -1 -1 -1 -1 -1 -1 -1 -1 -1 -1 -1 -1 -1 -1 -1 -1 -1 -1 -1 -1 -1 -1 -1 -1 -1\n",
      " -1 -1 -1 -1 -1 -1 -1 -1 -1 -1 -1 -1 -1 -1 -1 -1 -1 -1 -1 -1 -1 -1 -1 -1 -1\n",
      " -1 -1 -1 -1 -1 -1 -1 -1 -1 -1 -1 -1 -1 -1 -1 -1 -1 -1 -1 -1 -1 -1 -1 -1 -1\n",
      " -1 -1 -1 -1 -1  0  0  0  0  0  0  0  0  0  0  0  0  0  0  0  0  0  0  0  0\n",
      "  0  0  0  0  0  0  0  0  0  0  0  0  0  0  0  0  0  0  0  0  0  0  0  0  0\n",
      "  0  0  0  0  0  0  0  0  0  0  0  0  0  0  0  0  0  0  0  0  0  0  0  0  0\n",
      "  0  0  0  0  0  0  0  0  0  0  0  0  0  0  0  0  0  0  0  0  0  0  0  0  0\n",
      "  0  0  0  0  0  0  0  0  0  0  0  0  0  0  0  0  0  0  0  0  0  0  0  0  0\n",
      "  0  0  0  0  0  0  0  0  0  0  0  0  0  0  0  0  0  0  0  0  0  0  0  0  0\n",
      "  0  0  0  0  0  0  0  0  0  0  0  0  0  0  0  0  0  0  0  0  0  0  0  0  0\n",
      "  0  0  0  0  0  0  0  0  0  0  0  0  0  0  0  0  0  0  0  0  0  0  0  0  0\n",
      "  0  0  0  0  0  0  0  0  0  0  0  0  0  0  0  0  0  0  0  0  0  0  0  0  0\n",
      "  0  0  0  0  0  0  0  0  0  0  0  0  0  0  0  0  0  0  0  0  0  0  0  0  0\n",
      "  0  0  0  0  0  0  0  0  0  0  0  0  0  0  0  0  0  0  0  0 -1 -1 -1 -1 -1\n",
      " -1 -1 -1 -1 -1 -1 -1 -1 -1 -1 -1 -1 -1 -1 -1 -1 -1 -1 -1 -1 -1 -1 -1 -1 -1\n",
      " -1  1  1  1  1  1  1  1  1  1  1  1  1  1  1  1  1  1  1  1  1  1  1  1  1\n",
      "  1  1  1  1  1  1  1  1  1  1  1  1  1  1  1  1  1  1  1  1  1  1  1  1  1\n",
      "  1  1  1  1  1  1  1  1  1  1  1  1  1  1  1  1  1  1  1  1  1  1  1  1  1\n",
      "  1  1  1  1  1  1  1  1  1  1  1  1  1  1  1  1  1  1  1  1  1  1  1  1  1\n",
      "  1  1  1  1  1  1  1  1  1  1  1  1  1  1  1  1  1  1  1  1  1  1  1  1  1\n",
      "  1  1  1  1  1  1  1  1 -1 -1 -1 -1 -1 -1 -1  2  2  2  2  2  2  2  2  2  2\n",
      "  2  2  2  2  2  2  2  2  2  2  2  2  2  2  2  2  2  2  2  2  2  2  2  2  2\n",
      "  2  2  2  2  2  2  2  2  2  2  2  2  2  2  2  2  2  2  2  2  2  2  2  2  2\n",
      "  2  2  2  2  2  2  2  2  2  2  2  2  2  2  2  2  2  2  2  2  2  2  2  2  2\n",
      "  2  2  2  2  2  2  2  2  2  2  2  2  2  2  2  2  2  2  2  2  2  2  2  2  2\n",
      "  2  2  2  2  2  2  2  2  2  2  2  2  2  2  2  2  2  2  2  2  2  2  2  2  2\n",
      "  2  2  2  2  2 -1 -1 -1 -1 -1 -1 -1 -1 -1 -1 -1 -1 -1 -1 -1 -1 -1 -1 -1 -1\n",
      " -1 -1 -1 -1  2  2  2  2  2  2  2  2  2  2  2  2  2  2  2  2  2  2  2  2  2\n",
      " -1 -1 -1 -1 -1 -1 -1 -1 -1 -1 -1 -1  1  1  1  1  1  1  1  1  1  1  1  1  1\n",
      "  1  1  1  1  1  1  1  1  1  1  1  1  1  1  1  1  1  1  1  1  1  1  1 -1 -1\n",
      " -1  1  1  1  1  1  1  1  1  1  1  1  1  1  1  1  1  1  1  1  1  1  1  1  1\n",
      "  1  1  1  1  1  1  1  1]\n",
      "Core distances and neighborhoods prepped for 244 points.\n",
      "Object Found!\n",
      "5.0816630545e-06\n",
      "3.54975752861e-06\n",
      "1\n",
      "[-1 -1  1  1  1  1  1  1  1 -1 -1 -1 -1 -1 -1 -1 -1 -1 -1 -1  1  1  1  1  1\n",
      "  1  1  1  1  1  1  1  1  1  1  1  1  1  1  1  1  1  1  1  1  1  1  1  1  1\n",
      "  1  1  1  1  1  1  1  1  1  1  1  1  1  1  1  1  1  1  1  1  1  1  1  1  1\n",
      "  1  1  1  1  1  1  1  1  1  1  1  1  1  1  1  1  1  1  1  1  1  1  1  1  1\n",
      "  1  1  1  1  1  1  1  1  1  1  1  1  1  1  1  1  1  1  1  1  1  1  1  1  1\n",
      "  1  1  1  1  1  1  1  1  1  1  1  1  1  1  1  1  1  1  1  1  1  1  1  1  1\n",
      "  1  1  1  1  1  1  1  1  1  1  1  1  1  1  1  1  1  1  1  1  1  1  1  1  1\n",
      "  1  1  1  1  1  1  1  1  1  1  1  1  1  1  1  1  1  1  1  1  1  1  1  1  1\n",
      "  1  1  1  1  1  1  1  1  1  1  1  1  1  1  1  1  1  1  1  1  1  1  1  1  1\n",
      "  1  1  1  1  1  1  1  1  1  1  1  1  1  1  1  1  1  1  1]\n"
     ]
    }
   ],
   "source": [
    "data = loadTrajs(\"../cleaned_data/000_tmp\")\n",
    "clusteringOPTICS(data)"
   ]
  },
  {
   "cell_type": "code",
   "execution_count": 333,
   "metadata": {},
   "outputs": [],
   "source": [
    "def clusteringDBCAN(data):\n",
    "    n_traj = len(data)\n",
    "    for trajIndex in range(0, n_traj):\n",
    "        fout = open(\"clusterResultDBSCAN\" + str(trajIndex), \"w\")\n",
    "        curTrajSet = data[trajIndex]\n",
    "        result, numbers = dbscan(curTrajSet, 60, 60)\n",
    "        ind = 0\n",
    "        for cluster in result:\n",
    "            fout.write(str(data[trajIndex][ind][0]) + \"\\t\" +\n",
    "                       str(data[trajIndex][ind][1]) + \"\\t\" + str(cluster) + \"\\n\")\n",
    "            ind += 1\n"
   ]
  },
  {
   "cell_type": "code",
   "execution_count": 334,
   "metadata": {},
   "outputs": [
    {
     "name": "stdout",
     "output_type": "stream",
     "text": [
      "cluster 1 is finished!\n",
      "cluster 2 is finished!\n",
      "clustering is finished!total 2 clusters\n",
      "cluster 1 is finished!\n",
      "clustering is finished!total 1 clusters\n"
     ]
    }
   ],
   "source": [
    "data = loadTrajsTest(\"../cleaned_data/000_tmp\")\n",
    "clusteringDBCAN(data)"
   ]
  },
  {
   "cell_type": "code",
   "execution_count": 174,
   "metadata": {},
   "outputs": [],
   "source": [
    "def plotCluster(filename):\n",
    "    print(\"plot data begin...\")\n",
    "    fin = open(filename)\n",
    "    plotdata = []\n",
    "    clusters = []\n",
    "    for line in fin:\n",
    "        line_list = line.strip().split(\"\\t\")\n",
    "        latitude = float(line_list[0])\n",
    "        longitude = float(line_list[1])\n",
    "        cluster = int(line_list[2])\n",
    "        plotdata.append([latitude, longitude])\n",
    "        clusters.append(cluster)\n",
    "    plotdata = np.array(plotdata)\n",
    "    numbers = len(set(clusters))\n",
    "    plotFeatureTraj(plotdata, clusters, numbers)"
   ]
  },
  {
   "cell_type": "code",
   "execution_count": 177,
   "metadata": {},
   "outputs": [],
   "source": [
    "def plotFeatureTraj(data, clusters, clusterNum):\n",
    "    matClusters = np.mat(clusters)\n",
    "    fig = plt.figure()\n",
    "    ax = fig.add_subplot(111)\n",
    "    colors = ['blue', 'green', 'yellow', 'brown',\n",
    "              'red', 'purple', 'orange', 'grey']\n",
    "    noise_data = data[np.nonzero(matClusters == -1)[1], :]  # 噪声点\n",
    "    ax.scatter(noise_data[:, 1], noise_data[:, 0],\n",
    "               c=\"black\", s=0.8, marker='x', label='noise')  # 画噪声点，颜色为黑色\n",
    "    for i in range(0, clusterNum+1):  # 画其他簇\n",
    "        colorStyle = colors[i % len(colors)]\n",
    "        index = np.nonzero(matClusters == i)[1]\n",
    "        subCluster = data[index, :]\n",
    "        ax.scatter(subCluster[:, 1], subCluster[:, 0],\n",
    "                   c=colorStyle, s=0.8)\n",
    "    plt.legend(loc='best')\n",
    "    plt.show()"
   ]
  },
  {
   "cell_type": "code",
   "execution_count": 178,
   "metadata": {},
   "outputs": [
    {
     "name": "stdout",
     "output_type": "stream",
     "text": [
      "plot data begin...\n"
     ]
    },
    {
     "data": {
      "image/png": "[encoded data removed]",
      "text/plain": [
       "<matplotlib.figure.Figure at 0x7fd6741bed30>"
      ]
     },
     "metadata": {},
     "output_type": "display_data"
    }
   ],
   "source": [
    "plotCluster(\"clusterResultDBSCAN\")"
   ]
  },
  {
   "cell_type": "code",
   "execution_count": null,
   "metadata": {},
   "outputs": [],
   "source": []
  },
  {
   "cell_type": "code",
   "execution_count": null,
   "metadata": {},
   "outputs": [],
   "source": []
  }
 ],
 "metadata": {
  "kernelspec": {
   "display_name": "Python 3",
   "language": "python",
   "name": "python3"
  },
  "language_info": {
   "codemirror_mode": {
    "name": "ipython",
    "version": 3
   },
   "file_extension": ".py",
   "mimetype": "text/x-python",
   "name": "python",
   "nbconvert_exporter": "python",
   "pygments_lexer": "ipython3",
   "version": "3.5.2"
  }
 },
 "nbformat": 4,
 "nbformat_minor": 2
}
